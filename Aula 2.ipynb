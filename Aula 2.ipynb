{
 "cells": [
  {
   "cell_type": "markdown",
   "metadata": {},
   "source": [
    "<h2 align=\"center\">Aula 2: Criação de classes</h2>"
   ]
  },
  {
   "cell_type": "code",
   "execution_count": 7,
   "metadata": {},
   "outputs": [],
   "source": [
    "from math import *"
   ]
  },
  {
   "cell_type": "markdown",
   "metadata": {},
   "source": [
    "<h3 align=\"center\">Exercício 1: Classe Ponto3D</h3>"
   ]
  },
  {
   "cell_type": "code",
   "execution_count": 8,
   "metadata": {},
   "outputs": [],
   "source": [
    "class ponto3D:\n",
    "    #Exercicio 1\n",
    "    def __init__ (self,x,y,z):\n",
    "        self.x = x\n",
    "        self.y = y\n",
    "        self.z = z\n",
    "    #Exercicio 2\n",
    "    def __str__ (self):\n",
    "        return \"(\" + str(self.x) + \",\" + str(self.y) + \",\" + str(self.z) + \")\"\n",
    "\n",
    "\n",
    "\n",
    "    #Exercicio 3\n",
    "    def distancia (self, ponto):\n",
    "        if (not isinstance(ponto, ponto3D)):\n",
    "            return -1;\n",
    "\n",
    "        x1 = self.x\n",
    "        y1 = self.y\n",
    "        z1 = self.z\n",
    "        x2 = ponto.x\n",
    "        y2 = ponto.y\n",
    "        z2 = ponto.z\n",
    "        \n",
    "        return sqrt(pow(x1 - x2, 2) + pow(y1 - y2, 2) + pow(z1 - z2, 2))\n",
    "\n",
    "    #Exercicio 4\n",
    "    def __mod__(self, ponto):\n",
    "        return self.distancia(ponto)\n",
    "\n",
    "    #Exercicio 5\n",
    "    def __getitem__ (self, key):\n",
    "        if (key == 1 or key == 'x'):\n",
    "            return self.x\n",
    "        if (key == 2 or key == 'y'):\n",
    "            return self.y\n",
    "        if (key == 3 or key == 'z'):\n",
    "            return self.z\n",
    "        return None\n",
    "\n",
    "    #Exercicio 12\n",
    "    def __sub__ (self, ponto):\n",
    "        return vector3D(ponto.x - self.x,\n",
    "                        ponto.y - self.y,\n",
    "                        ponto.z - self.z)\n",
    "\n",
    "    #Exercicio 13\n",
    "    def __add__ (self, vector):\n",
    "        if (not isinstance(vector, vector3D)):\n",
    "            return -1\n",
    "        return ponto3D(self.x + vector.dx,\n",
    "                        self.y + vector.dy,\n",
    "                        self.z + vector.dz)"
   ]
  },
  {
   "cell_type": "markdown",
   "metadata": {},
   "source": [
    "<h3 align=\"center\">Exercício 2 - Criação da classe Vector3D</h3>"
   ]
  },
  {
   "cell_type": "code",
   "execution_count": 9,
   "metadata": {},
   "outputs": [],
   "source": [
    "class vector3D:\n",
    "    #Exercicio 6\n",
    "    def __init__(self,dx,dy,dz):\n",
    "        self.dx = dx\n",
    "        self.dy = dy\n",
    "        self.dz = dz\n",
    "\n",
    "    #Exercicio 7\n",
    "    def __abs__(self):\n",
    "        return (self.dx**2 + self.dy**2 + self.dz**2)**0.5\n",
    "\n",
    "    #Exercicio 8\n",
    "    def unitario(self):\n",
    "        modulo = abs(self)\n",
    "        xn = self.dx/modulo\n",
    "        yn = self.dy/modulo\n",
    "        zn = self.dz/modulo\n",
    "        return vector3D(xn,yn,zn)\n",
    "\n",
    "    #Exercicio 9/14\n",
    "    def __add__ (self, outro):\n",
    "        if (isinstance(outro, ponto3D)):\n",
    "            return outro + self\n",
    "        return vector3D(self.dx + outro.dx, \n",
    "                        self.dy + outro.dy, \n",
    "                        self.dz + outro.dz)\n",
    "\n",
    "    #Exercicio 10    \n",
    "    def __neg__ (self):        \n",
    "        return vector3D(self.dx*(-1), self.dy*(-1), self.dz*(-1))\n",
    "\n",
    "    #Exercicio 11    \n",
    "    def __sub__ (self, v2): \n",
    "        return self + (-v2)    "
   ]
  },
  {
   "cell_type": "markdown",
   "metadata": {},
   "source": [
    "<h2>Teste das classes implementadas</h2>"
   ]
  },
  {
   "cell_type": "code",
   "execution_count": 10,
   "metadata": {},
   "outputs": [
    {
     "name": "stdout",
     "output_type": "stream",
     "text": [
      "Distância entre os dois pontos: 1.73205080757\n"
     ]
    }
   ],
   "source": [
    "p1 = ponto3D(1,1,1)\n",
    "p2 = ponto3D(0,0,0)\n",
    "d = p1.distancia(p2)\n",
    "print(\"Distância entre os dois pontos: \" + str(d))"
   ]
  },
  {
   "cell_type": "code",
   "execution_count": 11,
   "metadata": {},
   "outputs": [
    {
     "name": "stdout",
     "output_type": "stream",
     "text": [
      "Vetor unitário: (0.71,0.0,0.71)\n"
     ]
    }
   ],
   "source": [
    "v1 = vector3D(2,0,2)\n",
    "unitario = v1.unitario()\n",
    "print(\"Vetor unitário: \" + \"(\" \n",
    "      + str(round(unitario.dx, 2)) + \",\" \n",
    "      + str(round(unitario.dy, 2)) + \",\" \n",
    "      + str(round(unitario.dz, 2)) + \")\")"
   ]
  }
 ],
 "metadata": {
  "kernelspec": {
   "display_name": "Python 2",
   "language": "python",
   "name": "python2"
  },
  "language_info": {
   "codemirror_mode": {
    "name": "ipython",
    "version": 2
   },
   "file_extension": ".py",
   "mimetype": "text/x-python",
   "name": "python",
   "nbconvert_exporter": "python",
   "pygments_lexer": "ipython2",
   "version": "2.7.12"
  }
 },
 "nbformat": 4,
 "nbformat_minor": 2
}

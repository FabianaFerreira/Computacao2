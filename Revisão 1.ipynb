{
 "cells": [
  {
   "cell_type": "markdown",
   "metadata": {},
   "source": [
    "<h2 class=\"header\" align=\"center\">Revisão: Exercícios para a P1</h2>"
   ]
  },
  {
   "cell_type": "code",
   "execution_count": 90,
   "metadata": {},
   "outputs": [],
   "source": [
    "import re\n",
    "import sys\n",
    "reload(sys)\n",
    "sys.setdefaultencoding('utf-8')\n",
    "\n",
    "class coordenadaGeografica:\n",
    "    #Questão 1\n",
    "    def __init__(self,lat,lon,formato):\n",
    "        if (formato == 'decimal'):\n",
    "            if (isinstance(lat,str) or isinstance(lat,float)):\n",
    "                self.__lat = float(lat)\n",
    "            if (isinstance(lon,str) or isinstance(lon,float)):\n",
    "                self.__lon = float(lon)                                \n",
    "        elif (formato == 'sexagesimal'):\n",
    "            regexLat = re.search(\"(\\-?)(\\d{1,3})\\º(.*)\\'(.*)\\'\\'\", lat)\n",
    "            regexLon = re.search(\"(\\-?)(\\d{1,3})\\º(.*)\\'(.*)\\'\\'\", lon)                        \n",
    "            \n",
    "            multiplicador = -1 if (regexLat.group(1) == '-') else 1                                \n",
    "            self.__lat = (float(regexLat.group(2)) + float(regexLat.group(3))/60.0 + float(regexLat.group(4))/3600.0)*multiplicador\n",
    "            \n",
    "            multiplicador = -1 if (regexLon.group(1) == '-') else 1                \n",
    "            self.__lon = (float(regexLon.group(2)) + float(regexLon.group(3))/60.0 + float(regexLon.group(4))/3600.0)*multiplicador\n",
    "    \n",
    "    #Questão 2\n",
    "    def decimal(self):\n",
    "        return self.lat, + self.lon\n",
    "    \n",
    "    #Questão 3\n",
    "    def gms(self):\n",
    "        grausLat = int(self.__lat)\n",
    "        minutosLat = int((self.__lat - grausLat)*60)\n",
    "        segundosLat = (self.__lat - grausLat - minutosLat/60.0)*3600\n",
    "        \n",
    "        grausLon = int(self.__lon)\n",
    "        minutosLon = int((self.__lon - grausLon)*60)\n",
    "        segundosLon = (self.__lon - grausLon - minutosLon/60.0)*3600\n",
    "        \n",
    "        return \"(%do %d' %.2f'', %do %d' %.2f'')\" %(grausLat,minutosLat,segundosLat,\n",
    "                                                    grausLon,minutosLon,segundosLon)\n",
    "        \n",
    "    #Questão 4\n",
    "#     def distance(self,coord):\n",
    "        \n",
    "            "
   ]
  },
  {
   "cell_type": "code",
   "execution_count": 91,
   "metadata": {},
   "outputs": [],
   "source": [
    "coord1 = coordenadaGeografica(\"-22º5'4''\",\"25º6'7''\",\"sexagesimal\")"
   ]
  },
  {
   "cell_type": "code",
   "execution_count": 92,
   "metadata": {},
   "outputs": [
    {
     "data": {
      "text/plain": [
       "\"(-22o -5' -4.00'', 25o 6' 7.00'')\""
      ]
     },
     "execution_count": 92,
     "metadata": {},
     "output_type": "execute_result"
    }
   ],
   "source": [
    "coord1.gms()"
   ]
  }
 ],
 "metadata": {
  "kernelspec": {
   "display_name": "Python 2",
   "language": "python",
   "name": "python2"
  },
  "language_info": {
   "codemirror_mode": {
    "name": "ipython",
    "version": 2
   },
   "file_extension": ".py",
   "mimetype": "text/x-python",
   "name": "python",
   "nbconvert_exporter": "python",
   "pygments_lexer": "ipython2",
   "version": "2.7.12"
  }
 },
 "nbformat": 4,
 "nbformat_minor": 2
}

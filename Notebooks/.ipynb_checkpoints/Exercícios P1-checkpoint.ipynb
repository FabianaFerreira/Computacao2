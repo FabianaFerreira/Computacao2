{
 "cells": [
  {
   "cell_type": "markdown",
   "metadata": {},
   "source": [
    "### P1 2017.1"
   ]
  },
  {
   "cell_type": "markdown",
   "metadata": {},
   "source": [
    "#### Questão 1"
   ]
  },
  {
   "cell_type": "code",
   "execution_count": 69,
   "metadata": {},
   "outputs": [],
   "source": [
    "#Questão 1a\n",
    "def contaClassesDefinidas(caminho):    \n",
    "    lines = []\n",
    "    contadorClasses = 0;\n",
    "    with open(caminho) as f:\n",
    "        lines = f.readlines()\n",
    "    for line in lines:\n",
    "        if (line[:6] == 'class '):\n",
    "            contadorClasses+=1\n",
    "    return contadorClasses\n",
    "\n",
    "\n",
    "#Questao 1b \n",
    "def contaClassesDefinidasHierarquia (caminho):    \n",
    "    lines = []\n",
    "    contadorClasses = 0;\n",
    "    with open(caminho) as f:\n",
    "        lines = f.readlines()\n",
    "    for line in lines:        \n",
    "        if ((line[:6] == 'class ') and '(' in line):\n",
    "            contadorClasses+=1\n",
    "    return contadorClasses    \n",
    "        "
   ]
  },
  {
   "cell_type": "code",
   "execution_count": 70,
   "metadata": {},
   "outputs": [
    {
     "data": {
      "text/plain": [
       "2"
      ]
     },
     "execution_count": 70,
     "metadata": {},
     "output_type": "execute_result"
    }
   ],
   "source": [
    "contaClassesDefinidasHierarquia(\"classes.py\")"
   ]
  },
  {
   "cell_type": "markdown",
   "metadata": {},
   "source": [
    "#### Questão 2"
   ]
  },
  {
   "cell_type": "code",
   "execution_count": 73,
   "metadata": {
    "collapsed": true
   },
   "outputs": [
    {
     "name": "stdout",
     "output_type": "stream",
     "text": [
      "Digite um numero: 1\n",
      "[1.0]\n",
      "Digite um numero: 2\n",
      "[1.0, 2.0]\n",
      "Digite um numero: 3\n",
      "[1.0, 2.0, 3.0]\n",
      "Digite um numero: 455\n",
      "[1.0, 2.0, 3.0, 455.0]\n",
      "Digite um numero: 66\n",
      "[1.0, 2.0, 3.0, 455.0, 66.0]\n",
      "Digite um numero: 7\n",
      "[1.0, 2.0, 3.0, 455.0, 66.0, 7.0]\n",
      "Digite um numero: 8\n",
      "[1.0, 2.0, 3.0, 455.0, 66.0, 7.0, 8.0]\n",
      "Digite um numero: 9\n",
      "[1.0, 2.0, 3.0, 455.0, 66.0, 7.0, 8.0, 9.0]\n",
      "Digite um numero: a\n",
      "Valor invalido. Tente novamente\n",
      "[1.0, 2.0, 3.0, 455.0, 66.0, 7.0, 8.0, 9.0]\n",
      "Digite um numero: c\n",
      "Valor invalido. Tente novamente\n",
      "[1.0, 2.0, 3.0, 455.0, 66.0, 7.0, 8.0, 9.0]\n",
      "Digite um numero: v\n",
      "Valor invalido. Tente novamente\n",
      "[1.0, 2.0, 3.0, 455.0, 66.0, 7.0, 8.0, 9.0]\n",
      "Digite um numero: g\n",
      "Valor invalido. Tente novamente\n",
      "[1.0, 2.0, 3.0, 455.0, 66.0, 7.0, 8.0, 9.0]\n",
      "\n",
      "Fim do programa\n"
     ]
    }
   ],
   "source": [
    "lista = []\n",
    "while True:\n",
    "    try:\n",
    "        numero = float(raw_input('Digite um numero: '))                \n",
    "        lista.append(numero)\n",
    "    except KeyboardInterrupt: \n",
    "        print('\\nFim do programa')\n",
    "        break\n",
    "    except ValueError:\n",
    "        print('Valor invalido. Tente novamente')\n",
    "    print(lista)                "
   ]
  },
  {
   "cell_type": "code",
   "execution_count": 85,
   "metadata": {},
   "outputs": [],
   "source": [
    "class LogDeEventos:\n",
    "    def __init__(self, caminho):\n",
    "        self.__log = open(caminho, 'w')\n",
    "        self.__linhas_escritas = 0\n",
    "    def registrarEvento(self, evento):\n",
    "        if (not isinstance(evento,str)):\n",
    "            raise TypeError('O evento tem que ser do tipo str')\n",
    "        self.__log.write(evento + '\\n')\n",
    "        self.__linhas_escritas += 1\n",
    "    def __del__(self):\n",
    "        self.__log.close()\n",
    "    def __len__(self): # método chamado quando usamos len(obj)\n",
    "        return self.__linhas_escritas"
   ]
  },
  {
   "cell_type": "code",
   "execution_count": 89,
   "metadata": {},
   "outputs": [],
   "source": [
    "from math import pi\n",
    "\n",
    "class circulo:\n",
    "    def __init__(self, raio, x, y):\n",
    "        self.raio = raio\n",
    "        self.x = x\n",
    "        self.y = y\n",
    "        \n",
    "    def perimetro(self):\n",
    "        return 2*pi*self.raio\n",
    "    \n",
    "    def area(self):\n",
    "        return pi*(self.raio**2)\n",
    "    "
   ]
  },
  {
   "cell_type": "markdown",
   "metadata": {},
   "source": [
    "### P1 2017.2"
   ]
  },
  {
   "cell_type": "markdown",
   "metadata": {},
   "source": [
    "#### Questão 1"
   ]
  },
  {
   "cell_type": "code",
   "execution_count": 112,
   "metadata": {},
   "outputs": [],
   "source": [
    "import pickle\n",
    "\n",
    "#1a\n",
    "def serializarDicionario(dicionario,caminho):\n",
    "    with open(caminho,'w') as f:\n",
    "        pickle.dump(dicionario,f)\n",
    "\n",
    "#1b\n",
    "def deserializarDicionario(caminho):\n",
    "    with open(caminho) as f:\n",
    "        return pickle.load(f)\n",
    "    \n",
    "    \n",
    "#1c    \n",
    "def serializarDicionarioExc(dicionario,caminho):\n",
    "    for key in dicionario:\n",
    "        if (not isinstance(key,str) or \n",
    "            not isinstance(dic[key],float) or \n",
    "            not isinstance(dic[key],int)):\n",
    "            raise TypeError        \n",
    "    with open(caminho,'w') as f:\n",
    "        pickle.dump(dicionario,f)\n"
   ]
  },
  {
   "cell_type": "code",
   "execution_count": 113,
   "metadata": {},
   "outputs": [],
   "source": [
    "dic = {\"a\":\"1\", \"b\":2, \"c\":3}"
   ]
  },
  {
   "cell_type": "code",
   "execution_count": 114,
   "metadata": {},
   "outputs": [
    {
     "ename": "TypeError",
     "evalue": "",
     "output_type": "error",
     "traceback": [
      "\u001b[0;31m---------------------------------------------------------------------------\u001b[0m",
      "\u001b[0;31mTypeError\u001b[0m                                 Traceback (most recent call last)",
      "\u001b[0;32m<ipython-input-114-c160d3011762>\u001b[0m in \u001b[0;36m<module>\u001b[0;34m()\u001b[0m\n\u001b[0;32m----> 1\u001b[0;31m \u001b[0mserializarDicionarioExc\u001b[0m\u001b[0;34m(\u001b[0m\u001b[0ma\u001b[0m\u001b[0;34m,\u001b[0m\u001b[0;34m'testeExc.txt'\u001b[0m\u001b[0;34m)\u001b[0m\u001b[0;34m\u001b[0m\u001b[0m\n\u001b[0m",
      "\u001b[0;32m<ipython-input-112-7c09c9d79b22>\u001b[0m in \u001b[0;36mserializarDicionarioExc\u001b[0;34m(dicionario, caminho)\u001b[0m\n\u001b[1;32m     18\u001b[0m             \u001b[0;32mnot\u001b[0m \u001b[0misinstance\u001b[0m\u001b[0;34m(\u001b[0m\u001b[0mdic\u001b[0m\u001b[0;34m[\u001b[0m\u001b[0mkey\u001b[0m\u001b[0;34m]\u001b[0m\u001b[0;34m,\u001b[0m\u001b[0mfloat\u001b[0m\u001b[0;34m)\u001b[0m \u001b[0;32mor\u001b[0m\u001b[0;34m\u001b[0m\u001b[0m\n\u001b[1;32m     19\u001b[0m             not isinstance(dic[key],int)):\n\u001b[0;32m---> 20\u001b[0;31m             \u001b[0;32mraise\u001b[0m \u001b[0mTypeError\u001b[0m\u001b[0;34m\u001b[0m\u001b[0m\n\u001b[0m\u001b[1;32m     21\u001b[0m     \u001b[0;32mwith\u001b[0m \u001b[0mopen\u001b[0m\u001b[0;34m(\u001b[0m\u001b[0mcaminho\u001b[0m\u001b[0;34m,\u001b[0m\u001b[0;34m'w'\u001b[0m\u001b[0;34m)\u001b[0m \u001b[0;32mas\u001b[0m \u001b[0mf\u001b[0m\u001b[0;34m:\u001b[0m\u001b[0;34m\u001b[0m\u001b[0m\n\u001b[1;32m     22\u001b[0m         \u001b[0mpickle\u001b[0m\u001b[0;34m.\u001b[0m\u001b[0mdump\u001b[0m\u001b[0;34m(\u001b[0m\u001b[0mdicionario\u001b[0m\u001b[0;34m,\u001b[0m\u001b[0mf\u001b[0m\u001b[0;34m)\u001b[0m\u001b[0;34m\u001b[0m\u001b[0m\n",
      "\u001b[0;31mTypeError\u001b[0m: "
     ]
    }
   ],
   "source": [
    "serializarDicionarioExc(a,'testeExc.txt')"
   ]
  },
  {
   "cell_type": "code",
   "execution_count": 102,
   "metadata": {},
   "outputs": [
    {
     "name": "stdout",
     "output_type": "stream",
     "text": [
      "a\n",
      "1\n",
      "c\n",
      "3\n",
      "b\n",
      "2\n"
     ]
    }
   ],
   "source": [
    "for key in dic:\n",
    "    print(key)\n",
    "    print(dic[key])"
   ]
  }
 ],
 "metadata": {
  "kernelspec": {
   "display_name": "Python 2",
   "language": "python",
   "name": "python2"
  },
  "language_info": {
   "codemirror_mode": {
    "name": "ipython",
    "version": 2
   },
   "file_extension": ".py",
   "mimetype": "text/x-python",
   "name": "python",
   "nbconvert_exporter": "python",
   "pygments_lexer": "ipython2",
   "version": "2.7.12"
  }
 },
 "nbformat": 4,
 "nbformat_minor": 2
}

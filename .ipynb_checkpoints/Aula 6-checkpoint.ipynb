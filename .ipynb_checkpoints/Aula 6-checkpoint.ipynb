{
 "cells": [
  {
   "cell_type": "code",
   "execution_count": 3,
   "metadata": {},
   "outputs": [],
   "source": [
    "from Tkinter import *"
   ]
  },
  {
   "cell_type": "markdown",
   "metadata": {},
   "source": [
    "### Questão 1"
   ]
  },
  {
   "cell_type": "code",
   "execution_count": 4,
   "metadata": {},
   "outputs": [
    {
     "name": "stdout",
     "output_type": "stream",
     "text": [
      "Iniciando o programa...\n",
      "Finalizando o programa...\n"
     ]
    }
   ],
   "source": [
    "class tela:\n",
    "    def __init__(self,master):    \n",
    "        self.botaoCor = Button(master,fg='red',font=('Calibri',12), text='Altera',command=self.mudaCor)\n",
    "        self.botaoIncrementa = Button(master,fg='blue',font=('Calibri',12),text='Incrementa', command=self.incrementaValor)\n",
    "        self.label = Label(master,text='0', fg='blue', font=('Calibri',12))\n",
    "        self.label.pack()\n",
    "        self.botaoCor.pack()\n",
    "        self.botaoIncrementa.pack()\n",
    "        \n",
    "    def clicou(self):\n",
    "        self.label.configure(fg='red',bg='black')\n",
    "        \n",
    "    def mudaCor(self):\n",
    "        if (self.label['fg'] == 'red'):\n",
    "            self.label['fg'] = 'blue'\n",
    "        else:\n",
    "            self.label['fg'] = 'red'\n",
    "    \n",
    "    def incrementaValor(self):\n",
    "        self.label['text'] = int(self.label['text']) + 1                \n",
    "            \n",
    "print 'Iniciando o programa...'\n",
    "gui = Tk()\n",
    "gui.title(\"Exercício de Computação: Questão 1\")\n",
    "app = tela(gui)\n",
    "gui.mainloop()\n",
    "print 'Finalizando o programa...'"
   ]
  },
  {
   "cell_type": "markdown",
   "metadata": {},
   "source": [
    "### Questão 2"
   ]
  },
  {
   "cell_type": "code",
   "execution_count": 5,
   "metadata": {},
   "outputs": [
    {
     "name": "stdout",
     "output_type": "stream",
     "text": [
      "Iniciando o programa...\n",
      "Finalizando o programa...\n"
     ]
    }
   ],
   "source": [
    "class tela2:\n",
    "    def __init__(self,master):  \n",
    "        self.entry =  Entry(master,width=20)\n",
    "        self.botaoLeArquivo = Button(master,fg='blue',font=('Calibri',11),text='Lê arquivo', command=self.lerArquivo)\n",
    "        self.message = Message(master, fg='blue', width=100)\n",
    "        self.entry.pack()            \n",
    "        self.botaoLeArquivo.pack()\n",
    "        self.message.pack()\n",
    "        \n",
    "    def lerArquivo(self):\n",
    "        nomeArq = self.entry.get()\n",
    "        try:\n",
    "            f = open(nomeArq)\n",
    "            self.message['text'] = f.read()\n",
    "        except:\n",
    "            self.message['text'] = 'Não foi possível abrir o arquivo no caminho informado'\n",
    "        \n",
    "            \n",
    "print 'Iniciando o programa...'\n",
    "gui = Tk()\n",
    "gui.title(\"Exercício de Computação: Questão 2\")\n",
    "app = tela2(gui)\n",
    "gui.mainloop()\n",
    "print 'Finalizando o programa...'"
   ]
  },
  {
   "cell_type": "markdown",
   "metadata": {},
   "source": [
    "### Questão 3"
   ]
  },
  {
   "cell_type": "code",
   "execution_count": 42,
   "metadata": {},
   "outputs": [
    {
     "name": "stdout",
     "output_type": "stream",
     "text": [
      "Iniciando o programa...\n",
      "Finalizando o programa...\n"
     ]
    }
   ],
   "source": [
    "class tela3:\n",
    "    def __init__(self,master):\n",
    "        self.entry =  Entry(master,width=30)\n",
    "        self.listbox = Listbox(master, width=30)\n",
    "        self.botaoAdiciona = Button(master,fg='blue',font=('Calibri',11),text='Adicionar', width=15, command=self.adicionaTexto)\n",
    "        self.botaoLimpa = Button(master,fg='blue',font=('Calibri',11),text='Limpar', width=15, command=self.limpaListbox)\n",
    "        self.entry.pack() \n",
    "        self.listbox.pack()\n",
    "        self.botaoAdiciona.pack()\n",
    "        self.botaoLimpa.pack()\n",
    "        \n",
    "    def adicionaTexto(self):\n",
    "        self.listbox.insert(END, self.entry.get())\n",
    "            \n",
    "    def limpaListbox(self):\n",
    "        self.listbox.delete(0, END)        \n",
    "            \n",
    "print 'Iniciando o programa...'\n",
    "gui = Tk()\n",
    "gui.title(\"Exercício de Computação: Questão 2\")\n",
    "app = tela3(gui)\n",
    "gui.mainloop()\n",
    "print 'Finalizando o programa...'"
   ]
  },
  {
   "cell_type": "markdown",
   "metadata": {},
   "source": [
    "### Questão 3"
   ]
  },
  {
   "cell_type": "code",
   "execution_count": 14,
   "metadata": {},
   "outputs": [
    {
     "name": "stdout",
     "output_type": "stream",
     "text": [
      "Iniciando o programa...\n"
     ]
    },
    {
     "name": "stderr",
     "output_type": "stream",
     "text": [
      "Exception in Tkinter callback\n",
      "Traceback (most recent call last):\n",
      "  File \"/usr/lib/python2.7/lib-tk/Tkinter.py\", line 1540, in __call__\n",
      "    return self.func(*args)\n",
      "  File \"<ipython-input-14-99bad2d1fcd1>\", line 10, in adicionaLabel\n",
      "    self.label = Label(self.master,text=self.clicks, fg='blue', font=('Calibri',12), click=self.adicionaLabel)\n",
      "  File \"/usr/lib/python2.7/lib-tk/Tkinter.py\", line 2595, in __init__\n",
      "    Widget.__init__(self, master, 'label', cnf, kw)\n",
      "  File \"/usr/lib/python2.7/lib-tk/Tkinter.py\", line 2094, in __init__\n",
      "    (widgetName, self._w) + extra + self._options(cnf))\n",
      "TclError: unknown option \"-click\"\n",
      "Exception in Tkinter callback\n",
      "Traceback (most recent call last):\n",
      "  File \"/usr/lib/python2.7/lib-tk/Tkinter.py\", line 1540, in __call__\n",
      "    return self.func(*args)\n",
      "  File \"<ipython-input-14-99bad2d1fcd1>\", line 10, in adicionaLabel\n",
      "    self.label = Label(self.master,text=self.clicks, fg='blue', font=('Calibri',12), click=self.adicionaLabel)\n",
      "  File \"/usr/lib/python2.7/lib-tk/Tkinter.py\", line 2595, in __init__\n",
      "    Widget.__init__(self, master, 'label', cnf, kw)\n",
      "  File \"/usr/lib/python2.7/lib-tk/Tkinter.py\", line 2094, in __init__\n",
      "    (widgetName, self._w) + extra + self._options(cnf))\n",
      "TclError: unknown option \"-click\"\n",
      "Exception in Tkinter callback\n",
      "Traceback (most recent call last):\n",
      "  File \"/usr/lib/python2.7/lib-tk/Tkinter.py\", line 1540, in __call__\n",
      "    return self.func(*args)\n",
      "  File \"<ipython-input-14-99bad2d1fcd1>\", line 10, in adicionaLabel\n",
      "    self.label = Label(self.master,text=self.clicks, fg='blue', font=('Calibri',12), click=self.adicionaLabel)\n",
      "  File \"/usr/lib/python2.7/lib-tk/Tkinter.py\", line 2595, in __init__\n",
      "    Widget.__init__(self, master, 'label', cnf, kw)\n",
      "  File \"/usr/lib/python2.7/lib-tk/Tkinter.py\", line 2094, in __init__\n",
      "    (widgetName, self._w) + extra + self._options(cnf))\n",
      "TclError: unknown option \"-click\"\n",
      "Exception in Tkinter callback\n",
      "Traceback (most recent call last):\n",
      "  File \"/usr/lib/python2.7/lib-tk/Tkinter.py\", line 1540, in __call__\n",
      "    return self.func(*args)\n",
      "  File \"<ipython-input-14-99bad2d1fcd1>\", line 10, in adicionaLabel\n",
      "    self.label = Label(self.master,text=self.clicks, fg='blue', font=('Calibri',12), click=self.adicionaLabel)\n",
      "  File \"/usr/lib/python2.7/lib-tk/Tkinter.py\", line 2595, in __init__\n",
      "    Widget.__init__(self, master, 'label', cnf, kw)\n",
      "  File \"/usr/lib/python2.7/lib-tk/Tkinter.py\", line 2094, in __init__\n",
      "    (widgetName, self._w) + extra + self._options(cnf))\n",
      "TclError: unknown option \"-click\"\n",
      "Exception in Tkinter callback\n",
      "Traceback (most recent call last):\n",
      "  File \"/usr/lib/python2.7/lib-tk/Tkinter.py\", line 1540, in __call__\n",
      "    return self.func(*args)\n",
      "  File \"<ipython-input-14-99bad2d1fcd1>\", line 10, in adicionaLabel\n",
      "    self.label = Label(self.master,text=self.clicks, fg='blue', font=('Calibri',12), click=self.adicionaLabel)\n",
      "  File \"/usr/lib/python2.7/lib-tk/Tkinter.py\", line 2595, in __init__\n",
      "    Widget.__init__(self, master, 'label', cnf, kw)\n",
      "  File \"/usr/lib/python2.7/lib-tk/Tkinter.py\", line 2094, in __init__\n",
      "    (widgetName, self._w) + extra + self._options(cnf))\n",
      "TclError: unknown option \"-click\"\n"
     ]
    },
    {
     "name": "stdout",
     "output_type": "stream",
     "text": [
      "Finalizando o programa...\n"
     ]
    }
   ],
   "source": [
    "class tela4:\n",
    "    def __init__(self,master):\n",
    "        self.master = master\n",
    "        self.botaoAdiciona = Button(self.master,fg='blue',font=('Calibri',11),text='Adicionar', width=15,\n",
    "                                    command=self.adicionaLabel)\n",
    "        self.botaoAdiciona.pack()\n",
    "        self.clicks = 0\n",
    "        \n",
    "    def adicionaLabel(self):        \n",
    "        self.label = Label(self.master,text=self.clicks, fg='blue', font=('Calibri',12))\n",
    "        self.clicks += 1\n",
    "        self.label.pack()\n",
    "                               \n",
    "print 'Iniciando o programa...'\n",
    "gui = Tk()\n",
    "gui.title(\"Exercício de Computação: Questão 2\")\n",
    "app = tela4(gui)\n",
    "gui.mainloop()\n",
    "print 'Finalizando o programa...'"
   ]
  }
 ],
 "metadata": {
  "kernelspec": {
   "display_name": "Python 2",
   "language": "python",
   "name": "python2"
  },
  "language_info": {
   "codemirror_mode": {
    "name": "ipython",
    "version": 2
   },
   "file_extension": ".py",
   "mimetype": "text/x-python",
   "name": "python",
   "nbconvert_exporter": "python",
   "pygments_lexer": "ipython2",
   "version": "2.7.12"
  }
 },
 "nbformat": 4,
 "nbformat_minor": 2
}

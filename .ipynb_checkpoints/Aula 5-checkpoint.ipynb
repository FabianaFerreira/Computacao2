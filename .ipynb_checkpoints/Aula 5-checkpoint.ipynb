{
 "cells": [
  {
   "cell_type": "markdown",
   "metadata": {},
   "source": [
    "<h2 class=\"header\" align=\"center\">Aula 5: Arquivos</h2>"
   ]
  },
  {
   "cell_type": "code",
   "execution_count": 15,
   "metadata": {},
   "outputs": [],
   "source": [
    "def createNumbersFile ():\n",
    "    listaArquivo = []\n",
    "    fim = False\n",
    "    while not fim:\n",
    "        value = raw_input(\"Digite um numero ou 'fim' para encerrar o programa: \")\n",
    "        if (value == 'fim'):\n",
    "            fileName = raw_input('Digite o nome do arquivo para salvar os dados: ')                        \n",
    "            f = open(fileName, 'w')\n",
    "            f.write(','.join(listaArquivo))\n",
    "            fim = True\n",
    "        else:\n",
    "            listaArquivo.append(value)\n",
    "\n",
    "            \n",
    "            \n",
    "#Alterando a funcao para tratar excecoes de entrada\n",
    "def createNumbersFile_v2 ():\n",
    "    listaArquivo = []\n",
    "    fim = False\n",
    "    while not fim:\n",
    "        value = getValueFromInput()\n",
    "        if (value == 'fim'):\n",
    "            fileName = raw_input('Digite o nome do arquivo para salvar os dados: ')                        \n",
    "            f = open(fileName, 'w')\n",
    "            f.write(','.join(listaArquivo))\n",
    "            fim = True        \n",
    "        else:\n",
    "            listaArquivo.append(value)\n",
    "            \n",
    "def getValueFromInput ():\n",
    "    while True:        \n",
    "        value = raw_input(\"Insira um numero ou 'fim' para encerrar o programa: \")\n",
    "        if (value == 'fim'):\n",
    "            return value\n",
    "        else:\n",
    "            try:\n",
    "                float(value)\n",
    "                return value\n",
    "            except ValueError:\n",
    "                print('A entrada não é um número. Insira outro valor.')"
   ]
  },
  {
   "cell_type": "code",
   "execution_count": 16,
   "metadata": {},
   "outputs": [
    {
     "name": "stdout",
     "output_type": "stream",
     "text": [
      "Insira um numero ou 'fim' para encerrar o programa: a\n",
      "A entrada não é um número. Insira outro valor.\n",
      "Insira um numero ou 'fim' para encerrar o programa: s\n",
      "A entrada não é um número. Insira outro valor.\n",
      "Insira um numero ou 'fim' para encerrar o programa: f\n",
      "A entrada não é um número. Insira outro valor.\n",
      "Insira um numero ou 'fim' para encerrar o programa: 1\n",
      "Insira um numero ou 'fim' para encerrar o programa: 2\n",
      "Insira um numero ou 'fim' para encerrar o programa: 3\n",
      "Insira um numero ou 'fim' para encerrar o programa: 4\n",
      "Insira um numero ou 'fim' para encerrar o programa: 5\n",
      "Insira um numero ou 'fim' para encerrar o programa: 6\n",
      "Insira um numero ou 'fim' para encerrar o programa: fim\n",
      "Digite o nome do arquivo para salvar os dados: dados.txt\n"
     ]
    }
   ],
   "source": [
    "createNumbersFile_v2()"
   ]
  }
 ],
 "metadata": {
  "kernelspec": {
   "display_name": "Python 2",
   "language": "python",
   "name": "python2"
  },
  "language_info": {
   "codemirror_mode": {
    "name": "ipython",
    "version": 2
   },
   "file_extension": ".py",
   "mimetype": "text/x-python",
   "name": "python",
   "nbconvert_exporter": "python",
   "pygments_lexer": "ipython2",
   "version": "2.7.12"
  }
 },
 "nbformat": 4,
 "nbformat_minor": 2
}

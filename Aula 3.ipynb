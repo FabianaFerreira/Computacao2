{
 "cells": [
  {
   "cell_type": "markdown",
   "metadata": {},
   "source": [
    "<h2 class=\"header\" align=\"center\">Aula 3: Encapsulamento, Herança e Polimorfismo</h2>\n",
    "\n"
   ]
  },
  {
   "cell_type": "markdown",
   "metadata": {},
   "source": [
    "### 1. Encapsulamento\n",
    "Encapsulamento é usado analogamento ao private de outras linguagens orientadas a objeto. Assim, ao definir uma classe, o atributo não pode ser acessado por um método. Para ser acessado, você deve criar um outro método ou utilizar o `__getitem__` para acessar o atributo do objeto."
   ]
  },
  {
   "cell_type": "code",
   "execution_count": 2,
   "metadata": {},
   "outputs": [],
   "source": [
    "#Sem encapsulamento\n",
    "class circulo1:\n",
    "    def __init__(self,raio,x,y):\n",
    "        self.raio = raio\n",
    "        self.x = x\n",
    "        self.y = y\n",
    "\n",
    "#Sem encapsulamento\n",
    "class circulo2:\n",
    "    def __init__(self,raio,x,y):\n",
    "        self.__raio = raio\n",
    "        self.__x = x\n",
    "        self.__y = y\n",
    "\n",
    "c1 = circulo1(10,1,2)\n",
    "c2 = circulo2(10,1,2)"
   ]
  },
  {
   "cell_type": "code",
   "execution_count": 3,
   "metadata": {},
   "outputs": [
    {
     "data": {
      "text/plain": [
       "1"
      ]
     },
     "execution_count": 3,
     "metadata": {},
     "output_type": "execute_result"
    }
   ],
   "source": [
    "#Vou conseguir acessar o atributo\n",
    "c1.x"
   ]
  },
  {
   "cell_type": "code",
   "execution_count": 129,
   "metadata": {
    "scrolled": true
   },
   "outputs": [],
   "source": [
    "#Vai gerar um traceback que, para aplicações específicas, será utilizado como uma exceção\n",
    "# c2.x"
   ]
  },
  {
   "cell_type": "markdown",
   "metadata": {},
   "source": [
    "#### A seguir, vamos fazer a implementação de uma função que será usada na definição das funções `__init__` e `__setitem__` para checar se os valores são válidos (tipo `int` ou `float`)"
   ]
  },
  {
   "cell_type": "code",
   "execution_count": 130,
   "metadata": {},
   "outputs": [],
   "source": [
    "#Função auxiliar para uso no exercício 17\n",
    "def checarValores(var, default=1):\n",
    "    if (isinstance(var,int) or isinstance(var,float)):\n",
    "        return var, True\n",
    "    return default, False    "
   ]
  },
  {
   "cell_type": "markdown",
   "metadata": {},
   "source": [
    "#### Agora vamos voltar nos exercícios da aula 2 para aplicar o que aprendemos sobre encapsulamento"
   ]
  },
  {
   "cell_type": "markdown",
   "metadata": {},
   "source": [
    "###### Definição da classe ponto3D"
   ]
  },
  {
   "cell_type": "code",
   "execution_count": 131,
   "metadata": {},
   "outputs": [],
   "source": [
    "class ponto3D:\n",
    "    #Exercicio 15\n",
    "    def __init__ (self,x,y,z):                        \n",
    "        self.__x, boolean = checarValores(x)\n",
    "        if (not boolean):\n",
    "            print('A variável x tem um valor inválido. Atribuindo valor padrão 1')\n",
    "        self.__y, boolean = checarValores(y)\n",
    "        if (not boolean):\n",
    "            print('A variável y tem um valor inválido. Atribuindo valor padrão 1')\n",
    "        self.__z, boolean = checarValores(z)\n",
    "        if (not boolean):\n",
    "            print('A variável z tem um valor inválido. Atribuindo valor padrão 1')\n",
    "            \n",
    "    #Exercicio 2\n",
    "    def __str__ (self):\n",
    "        return \"(\" + str(self.__x) + \",\" + str(self.__y) + \",\" + str(self.__z) + \")\"\n",
    "\n",
    "\n",
    "\n",
    "    #Exercicio 3\n",
    "    def distancia (self, ponto):\n",
    "        if (not isinstance(ponto, ponto3D)):\n",
    "            return -1;\n",
    "\n",
    "        x1 = self.__x\n",
    "        y1 = self.__y\n",
    "        z1 = self.__z\n",
    "        x2 = ponto['x']\n",
    "        y2 = ponto['y']\n",
    "        z2 = ponto['z']\n",
    "        \n",
    "        return sqrt(pow(x1 - x2, 2) + pow(y1 - y2, 2) + pow(z1 - z2, 2))\n",
    "\n",
    "    #Exercicio 4\n",
    "    def __mod__(self, ponto):\n",
    "        return self.distancia(ponto)\n",
    "\n",
    "    #Exercicio 5\n",
    "    def __getitem__ (self, key):\n",
    "        if (key == 1 or key == 'x'):\n",
    "            return self.__x\n",
    "        if (key == 2 or key == 'y'):\n",
    "            return self.__y\n",
    "        if (key == 3 or key == 'z'):\n",
    "            return self.__z\n",
    "        return None\n",
    "    \n",
    "    #Exercicio 16\n",
    "    def __setitem__ (self, key, value):        \n",
    "        if (key == 1 or key == 'x'):            \n",
    "            self.__x, boolean = checarValores(value)\n",
    "            if (not boolean):\n",
    "                print('A variável x tem um valor inválido. Atribuindo valor padrão 1')\n",
    "        if (key == 2 or key == 'y'):\n",
    "            self.__y, boolean = checarValores(value)\n",
    "            if (not boolean):\n",
    "                print('A variável y tem um valor inválido. Atribuindo valor padrão 1')\n",
    "        if (key == 3 or key == 'z'):\n",
    "            self.__z, boolean = checarValores(value)\n",
    "            if (not boolean):\n",
    "                print('A variável z tem um valor inválido. Atribuindo valor padrão 1')\n",
    "        return None        \n",
    "\n",
    "    #Exercicio 12\n",
    "    def __sub__ (self, ponto):\n",
    "        return vector3D(ponto['x'] - self.__x,\n",
    "                        ponto['y'] - self.__y,\n",
    "                        ponto['z'] - self.__z)\n",
    "\n",
    "    #Exercicio 13\n",
    "    def __add__ (self, vector):\n",
    "        if (not isinstance(vector, vector3D)):\n",
    "            return -1\n",
    "        return ponto3D(self.__x + vector['dx'], \n",
    "                       self.__y + vector['dy'],\n",
    "                       self.__z + vector['dz'])"
   ]
  },
  {
   "cell_type": "markdown",
   "metadata": {},
   "source": [
    "###### Definição da classe vector3D"
   ]
  },
  {
   "cell_type": "code",
   "execution_count": 2,
   "metadata": {},
   "outputs": [],
   "source": [
    "class vector3D:\n",
    "    #Exercicio 15\n",
    "    def __init__(self,dx,dy,dz):        \n",
    "        self.__dx, boolean = checarValores(dx)\n",
    "        if (not boolean):\n",
    "            print('A variável dx tem um valor inválido. Atribuindo valor padrão 1')\n",
    "        self.__dy, boolean = checarValores(dy)\n",
    "        if (not boolean):\n",
    "            print('A variável dy tem um valor inválido. Atribuindo valor padrão 1')\n",
    "        self.__dz, boolean = checarValores(dz)\n",
    "        if (not boolean):\n",
    "            print('A variável dz tem um valor inválido. Atribuindo valor padrão 1')\n",
    "\n",
    "    #Exercicio 15\n",
    "    def __getitem__ (self, key):\n",
    "        if (key == 1 or key == 'dx'):\n",
    "            return self.__dx\n",
    "        if (key == 2 or key == 'dy'):\n",
    "            return self.__dy\n",
    "        if (key == 3 or key == 'dz'):\n",
    "            return self.__dz\n",
    "        return None\n",
    "    \n",
    "    #Exercicio 16\n",
    "    def __setitem__ (self, key, value):\n",
    "        if (key == 1 or key == 'dx'):            \n",
    "            self.__dx, boolean = checarValores(value)\n",
    "            if (not boolean):\n",
    "                print('A variável dx tem um valor inválido. Atribuindo valor padrão 1')\n",
    "        if (key == 2 or key == 'dy'):\n",
    "            self.__dy, boolean = checarValores(value)\n",
    "            if (not boolean):\n",
    "                print('A variável dy tem um valor inválido. Atribuindo valor padrão 1')\n",
    "        if (key == 3 or key == 'dz'):\n",
    "            self.__dz, boolean = checarValores(value)\n",
    "            if (not boolean):\n",
    "                print('A variável dz tem um valor inválido. Atribuindo valor padrão 1')\n",
    "        return None        \n",
    "        \n",
    "    #Exercicio 7\n",
    "    def __abs__(self):\n",
    "        return (self.__dx**2 + self.__dy**2 + self.__dz**2)**0.5\n",
    "\n",
    "    #Extra para não ter que ficar convertendo com str()\n",
    "    def __str__ (self):\n",
    "        return \"(\" + str(self.__dx) + \",\" + str(self.__dy) + \",\" + str(self.__dz) + \")\"\n",
    "    \n",
    "    #Exercicio 8\n",
    "    def unitario(self):\n",
    "        modulo = abs(self)\n",
    "        xn = self.__dx/modulo\n",
    "        yn = self.__dy/modulo\n",
    "        zn = self.__dz/modulo\n",
    "        return vector3D(xn,yn,zn)\n",
    "\n",
    "    #Exercicio 9/14\n",
    "    def __add__ (self, outro):\n",
    "        if (isinstance(outro, ponto3D)):\n",
    "            return outro + self\n",
    "        return vector3D(self.__dx + outro['dx'], \n",
    "                        self.__dy + outro['dy'], \n",
    "                        self.__dz + outro['dz'])\n",
    "\n",
    "    #Exercicio 10    \n",
    "    def __neg__ (self):        \n",
    "        return vector3D(self.__dx*(-1), self.__dy*(-1), self.__dz*(-1))\n",
    "\n",
    "    #Exercicio 11    \n",
    "    def __sub__ (self, v2): \n",
    "        return self + (-v2)    \n",
    "    \n",
    "    #Exercicio 18\n",
    "    def produtoEscalar (self, vector):\n",
    "        return float(self.__dx*vector['dx'] + self.__dy*vector['dy'] + self.__dz*vector['dz'])"
   ]
  },
  {
   "cell_type": "code",
   "execution_count": 133,
   "metadata": {},
   "outputs": [],
   "source": [
    "p1 = ponto3D(1,2,3)\n",
    "v1 = vector3D(1,2,3)"
   ]
  },
  {
   "cell_type": "markdown",
   "metadata": {},
   "source": [
    "#### Testando o método mágico `__getitem__(self,key)`:"
   ]
  },
  {
   "cell_type": "code",
   "execution_count": 134,
   "metadata": {},
   "outputs": [
    {
     "name": "stdout",
     "output_type": "stream",
     "text": [
      "Coordenadas do ponto p1: 1,2,3\n",
      "Coordenadas do vetor v1: 1,2,3\n"
     ]
    }
   ],
   "source": [
    "print(\"Coordenadas do ponto p1: \" + str(p1['x']) + \",\" + str(p1['y']) + \",\" + str(p1['z']))\n",
    "print(\"Coordenadas do vetor v1: \" + str(v1['dx']) + \",\" + str(v1['dy']) + \",\" + str(v1['dz']))"
   ]
  },
  {
   "cell_type": "markdown",
   "metadata": {},
   "source": [
    "#### Testando o método mágico `__setitem__(self,key,value)`:"
   ]
  },
  {
   "cell_type": "code",
   "execution_count": 135,
   "metadata": {},
   "outputs": [
    {
     "name": "stdout",
     "output_type": "stream",
     "text": [
      "Coordenadas do ponto p1: 3,2,1\n",
      "Coordenadas do vetor v1: 3,2,1\n"
     ]
    }
   ],
   "source": [
    "p1['x'] = 3\n",
    "p1['y'] = 2\n",
    "p1['z'] = 1\n",
    "\n",
    "v1['dx'] = 3\n",
    "v1['dy'] = 2\n",
    "v1['dz'] = 1\n",
    "\n",
    "print(\"Coordenadas do ponto p1: \" + str(p1['x']) + \",\" + str(p1['y']) + \",\" + str(p1['z']))\n",
    "print(\"Coordenadas do vetor v1: \" + str(v1['dx']) + \",\" + str(v1['dy']) + \",\" + str(v1['dz']))"
   ]
  },
  {
   "cell_type": "markdown",
   "metadata": {},
   "source": [
    "#### Testando o método `produtoEscalar(self, vector)`"
   ]
  },
  {
   "cell_type": "code",
   "execution_count": 136,
   "metadata": {},
   "outputs": [
    {
     "name": "stdout",
     "output_type": "stream",
     "text": [
      "O produto escalar de v1 e v2 é 10.0\n"
     ]
    }
   ],
   "source": [
    "v1 = vector3D (1,2,3)\n",
    "v2 = vector3D (3,2,1)\n",
    "\n",
    "print(\"O produto escalar de v1 e v2 é \" + str(v1.produtoEscalar(v2)))"
   ]
  },
  {
   "cell_type": "markdown",
   "metadata": {},
   "source": [
    "### 2. Herança\n",
    "Em geral, os métodos são herdados, você pode sobrescrevê-los e também criar novos métodos que existem apenas no filho. Um motivo bem básico do porquê de usarmos herança é aproveitar o que já foi definido antes (a famosa reutilização de código)."
   ]
  },
  {
   "cell_type": "markdown",
   "metadata": {},
   "source": [
    "#### Vamos criar as classes ponto2D e vector2D, que são filhas das classes ponto3D e vector3D, respectivamente"
   ]
  },
  {
   "cell_type": "code",
   "execution_count": 137,
   "metadata": {},
   "outputs": [],
   "source": [
    "class ponto2D (ponto3D):\n",
    "    def __init__(self,x,y):\n",
    "        ponto3D.__init__(self,x,y,0)\n",
    "        \n",
    "class vector2D (vector3D):\n",
    "    def __init__(self,dx,dy):\n",
    "        vector3D.__init__(self,dx,dy,0)"
   ]
  },
  {
   "cell_type": "markdown",
   "metadata": {},
   "source": [
    "#### Vale observar que podemos utilizar todos os métodos definidos nas classes `ponto3D` e `vector3D` em objetos das classes `ponto2D` e `vector2D`, respectivamente"
   ]
  },
  {
   "cell_type": "code",
   "execution_count": 138,
   "metadata": {},
   "outputs": [
    {
     "name": "stdout",
     "output_type": "stream",
     "text": [
      "Ponto 1: (1,2,0)\n",
      "Vetor 1: (2,3,0)\n",
      "Vetor 1 rebatido: (-2,-3,0)\n",
      "Soma p1 + v1: (3,5,0)\n",
      "Soma v1 + v2: (6,8,0)\n",
      "Soma p1 + p2: -1\n"
     ]
    }
   ],
   "source": [
    "p1 = ponto2D(1,2)\n",
    "v1 = vector2D(2,3)\n",
    "\n",
    "p2 = ponto2D(3,4)\n",
    "v2 = vector2D(4,5)\n",
    "\n",
    "print(\"Ponto 1: \" + str(p1))\n",
    "print(\"Vetor 1: \" + str(v1))\n",
    "\n",
    "print(\"Vetor 1 rebatido: \" + str(-v1))\n",
    "print(\"Soma p1 + v1: \" + str(p1 + v1))\n",
    "\n",
    "print(\"Soma v1 + v2: \" + str(v1 + v2))\n",
    "print(\"Soma p1 + p2: \" + str(p1 + p2))\n"
   ]
  },
  {
   "cell_type": "markdown",
   "metadata": {},
   "source": [
    "### 3. Polimorfismo\n",
    "\n",
    "Objetos de classes diferentes podem ser utilizados de forma semelhante. Pode ser útil com herança: objeto específico se comportamento como objeto generalizado"
   ]
  }
 ],
 "metadata": {
  "kernelspec": {
   "display_name": "Python 2",
   "language": "python",
   "name": "python2"
  },
  "language_info": {
   "codemirror_mode": {
    "name": "ipython",
    "version": 2
   },
   "file_extension": ".py",
   "mimetype": "text/x-python",
   "name": "python",
   "nbconvert_exporter": "python",
   "pygments_lexer": "ipython2",
   "version": "2.7.12"
  }
 },
 "nbformat": 4,
 "nbformat_minor": 2
}
